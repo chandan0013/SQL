{
 "cells": [
  {
   "cell_type": "markdown",
   "metadata": {
    "slideshow": null
   },
   "source": [
    "# SQL Miniproject\n"
   ]
  },
  {
   "cell_type": "markdown",
   "metadata": {
    "slideshow": null
   },
   "source": [
    "## Introduction\n"
   ]
  },
  {
   "cell_type": "markdown",
   "metadata": {
    "slideshow": null
   },
   "source": [
    "The city of New York does restaurant inspections and assigns a grade. Inspections data for the last 4 years are available on s3 as an SQLite database, which you can import in the next few cells. These were extracted from a set of csv files and an XLS file, as described in the <b>How we loaded the data</b> section\n",
    "\n",
    "\n",
    "The raw data can be found [here](https://s3.amazonaws.com/dataincubator-course/coursedata/nyc_inspection_data.zip) and can be useful to look at. The file `RI_Webextract_BigApps_Latest.xls` contains a description of each of the data files and what the columns mean."
   ]
  },
  {
   "cell_type": "code",
   "execution_count": 251,
   "metadata": {
    "slideshow": null
   },
   "outputs": [
    {
     "name": "stdout",
     "output_type": "stream",
     "text": [
      "download: s3://dataincubator-course/coursedata/nyc_inspection.db to ./nyc_inspection.db\n"
     ]
    }
   ],
   "source": [
    "!aws s3 sync s3://dataincubator-course/coursedata/ . --exclude '*' --include 'nyc_inspection.db'"
   ]
  },
  {
   "cell_type": "code",
   "execution_count": 252,
   "metadata": {
    "slideshow": null
   },
   "outputs": [
    {
     "data": {
      "text/plain": [
       "'Connected: @nyc_inspection.db'"
      ]
     },
     "execution_count": 252,
     "metadata": {},
     "output_type": "execute_result"
    }
   ],
   "source": [
    "#This will load the pre-existing tables\n",
    "%load_ext sql\n",
    "%sql sqlite:///nyc_inspection.db"
   ]
  },
  {
   "cell_type": "markdown",
   "metadata": {
    "slideshow": null
   },
   "source": [
    "To see what tables are in the database:"
   ]
  },
  {
   "cell_type": "code",
   "execution_count": 253,
   "metadata": {
    "slideshow": null
   },
   "outputs": [
    {
     "name": "stdout",
     "output_type": "stream",
     "text": [
      " * sqlite:///nyc_inspection.db\n",
      "Done.\n"
     ]
    },
    {
     "data": {
      "text/html": [
       "<table>\n",
       "    <tr>\n",
       "        <th>type</th>\n",
       "        <th>name</th>\n",
       "        <th>tbl_name</th>\n",
       "        <th>rootpage</th>\n",
       "        <th>sql</th>\n",
       "    </tr>\n",
       "    <tr>\n",
       "        <td>table</td>\n",
       "        <td>writer</td>\n",
       "        <td>writer</td>\n",
       "        <td>2</td>\n",
       "        <td>CREATE TABLE writer (first_name, last_name, year)</td>\n",
       "    </tr>\n",
       "    <tr>\n",
       "        <td>table</td>\n",
       "        <td>webextract</td>\n",
       "        <td>webextract</td>\n",
       "        <td>3</td>\n",
       "        <td>CREATE TABLE webextract (<br>\t&quot;index&quot; BIGINT, <br>\t&quot;CAMIS&quot; BIGINT, <br>\t&quot;DBA&quot; TEXT, <br>\t&quot;BORO&quot; BIGINT, <br>\t&quot;BUILDING&quot; TEXT, <br>\t&quot;STREET&quot; TEXT, <br>\t&quot;ZIPCODE&quot; FLOAT, <br>\t&quot;PHONE&quot; TEXT, <br>\t&quot;CUISINECODE&quot; BIGINT, <br>\t&quot;INSPDATE&quot; TEXT, <br>\t&quot;ACTION&quot; TEXT, <br>\t&quot;VIOLCODE&quot; TEXT, <br>\t&quot;SCORE&quot; FLOAT, <br>\t&quot;CURRENTGRADE&quot; TEXT, <br>\t&quot;GRADEDATE&quot; TEXT, <br>\t&quot;RECORDDATE&quot; TEXT<br>)</td>\n",
       "    </tr>\n",
       "    <tr>\n",
       "        <td>table</td>\n",
       "        <td>violations</td>\n",
       "        <td>violations</td>\n",
       "        <td>24393</td>\n",
       "        <td>CREATE TABLE violations (<br>\t&quot;index&quot; BIGINT, <br>\t&quot;STARTDATE&quot; TEXT, <br>\t&quot;ENDDATE&quot; TEXT, <br>\t&quot;CRITICALFLAG&quot; TEXT, <br>\t&quot;VIOLATIONCODE&quot; TEXT, <br>\t&quot;VIOLATIONDESC&quot; TEXT<br>)</td>\n",
       "    </tr>\n",
       "    <tr>\n",
       "        <td>table</td>\n",
       "        <td>cuisine</td>\n",
       "        <td>cuisine</td>\n",
       "        <td>24426</td>\n",
       "        <td>CREATE TABLE cuisine (<br>\t&quot;index&quot; BIGINT, <br>\t&quot;CUISINECODE&quot; BIGINT, <br>\t&quot;CODEDESC&quot; TEXT<br>)</td>\n",
       "    </tr>\n",
       "    <tr>\n",
       "        <td>table</td>\n",
       "        <td>boroughs</td>\n",
       "        <td>boroughs</td>\n",
       "        <td>24428</td>\n",
       "        <td>CREATE TABLE boroughs (<br>   id   INT,<br>   name  TEXT<br>)</td>\n",
       "    </tr>\n",
       "</table>"
      ],
      "text/plain": [
       "[('table', 'writer', 'writer', 2, 'CREATE TABLE writer (first_name, last_name, year)'),\n",
       " ('table', 'webextract', 'webextract', 3, 'CREATE TABLE webextract (\\n\\t\"index\" BIGINT, \\n\\t\"CAMIS\" BIGINT, \\n\\t\"DBA\" TEXT, \\n\\t\"BORO\" BIGINT, \\n\\t\"BUILDING\" TEXT, \\n\\t\"STREET\" TEXT, \\n\\t\"ZIPC ... (58 characters truncated) ... \\t\"INSPDATE\" TEXT, \\n\\t\"ACTION\" TEXT, \\n\\t\"VIOLCODE\" TEXT, \\n\\t\"SCORE\" FLOAT, \\n\\t\"CURRENTGRADE\" TEXT, \\n\\t\"GRADEDATE\" TEXT, \\n\\t\"RECORDDATE\" TEXT\\n)'),\n",
       " ('table', 'violations', 'violations', 24393, 'CREATE TABLE violations (\\n\\t\"index\" BIGINT, \\n\\t\"STARTDATE\" TEXT, \\n\\t\"ENDDATE\" TEXT, \\n\\t\"CRITICALFLAG\" TEXT, \\n\\t\"VIOLATIONCODE\" TEXT, \\n\\t\"VIOLATIONDESC\" TEXT\\n)'),\n",
       " ('table', 'cuisine', 'cuisine', 24426, 'CREATE TABLE cuisine (\\n\\t\"index\" BIGINT, \\n\\t\"CUISINECODE\" BIGINT, \\n\\t\"CODEDESC\" TEXT\\n)'),\n",
       " ('table', 'boroughs', 'boroughs', 24428, 'CREATE TABLE boroughs (\\n   id   INT,\\n   name  TEXT\\n)')]"
      ]
     },
     "execution_count": 253,
     "metadata": {},
     "output_type": "execute_result"
    }
   ],
   "source": [
    "%%sql\n",
    "SELECT * FROM sqlite_master WHERE \"type\"='table';"
   ]
  },
  {
   "cell_type": "markdown",
   "metadata": {
    "slideshow": null
   },
   "source": [
    "And to look at the format of an individual table (note that you may need to change types to get the answers in the right form):"
   ]
  },
  {
   "cell_type": "markdown",
   "metadata": {
    "slideshow": null
   },
   "source": [
    "## SQLite3\n"
   ]
  },
  {
   "cell_type": "markdown",
   "metadata": {
    "slideshow": null
   },
   "source": [
    "The project should be written in SQL. Between SQLite and PostgreSQL we recommend SQLite for this project.  You can use the SQLite command prompt by running this command in bash\n",
    "```bash\n",
    "sqlite3 cmd \"DROP TABLE IF EXISTS writer;\\\n",
    "CREATE TABLE IF NOT EXISTS writer (first_name, last_name, year);\\\n",
    "INSERT INTO writer VALUES ('William', 'Shakespeare', 1616);\\\n",
    "INSERT INTO writer VALUES ('Francis', 'Fitzgerald', 1896);\\\n",
    "\\\n",
    "SELECT * FROM writer;\\\n",
    "\"\n",
    "```\n",
    "Alternatively, you can run bash commands in a Jupyter notebook by prepending the `!` in a code cell (notice that we conveniently get the output displayed"
   ]
  },
  {
   "cell_type": "code",
   "execution_count": null,
   "metadata": {
    "slideshow": null
   },
   "outputs": [],
   "source": [
    "!sqlite3 cmd \"\"\"\\\n",
    "DROP TABLE IF EXISTS writer;\\\n",
    "CREATE TABLE IF NOT EXISTS writer (first_name, last_name, year);\\\n",
    "INSERT INTO writer VALUES ('William', 'Shakespeare', 1616);\\\n",
    "INSERT INTO writer VALUES ('Francis', 'Fitzgerald', 1896);\\\n",
    "\\\n",
    "SELECT * FROM writer;\\\n",
    "\"\"\""
   ]
  },
  {
   "cell_type": "markdown",
   "metadata": {
    "slideshow": null
   },
   "source": [
    "## How we loaded the data\n"
   ]
  },
  {
   "cell_type": "markdown",
   "metadata": {
    "slideshow": null
   },
   "source": [
    "For future reference, here is how you can load data in to SQL (with examples).  If you have a csv file you created with something like\n",
    "\n",
    "```\n",
    "!printf \"Name,Age\\nAlice,3\\nBob,10\" > sample.csv.nogit\n",
    "```\n",
    "\n",
    "\n",
    "Then SQLite has a convenient [`.import` function](https://sqlite.org/cli.html#csv_import) which can create tables from `.csv` files.\n",
    "\n",
    "```bash\n",
    "sqlite> .import sample.csv.nogit sample\n",
    "sqlite> SELECT * FROM sample;\n",
    "```\n",
    "\n",
    "The files may contain badly formatted text.  Unfortunately, this is all too common.  As a stop gap, remember that [`iconv`](https://linux.die.net/man/1/iconv) is a Unix utility that can convert files between different text encodings.\n",
    "\n",
    "Alternatively, you can also read csv files using pandas and convert that into SQL via some SQL magic (this is what we actually did).\n",
    "\n",
    "```\n",
    "import pandas as pd\n",
    "sample = pd.read_csv('sample.csv.nogit')\n",
    "%sql DROP TABLE IF EXISTS sample\n",
    "%sql PERSIST sample\n",
    "%sql SELECT * FROM sample;\n",
    "```"
   ]
  },
  {
   "cell_type": "markdown",
   "metadata": {
    "slideshow": null
   },
   "source": [
    "## Question 1: Score by zip code\n"
   ]
  },
  {
   "cell_type": "markdown",
   "metadata": {
    "slideshow": null
   },
   "source": [
    "Return a list of tuples of the form:\n",
    "\n",
    "    (zip code, mean score, number of restaurants)\n",
    "\n",
    "for each of the 87 zip codes in the city with over 100 restaurants. Use the score from the latest inspection date for each restaurant. Sort the list in ascending order by mean score.\n",
    "\n",
    "**Note:** There is an interesting discussion here about what the mean score *means* in this data set. Think about what we're actually calculating - does it represent what we're trying to understand about these zip codes?\n",
    "\n",
    "What if we use the average of a restaurant's inspections instead of the latest?\n",
    "\n",
    "**Checkpoints:**\n",
    "- Total unique restaurants: 24,361;\n",
    "- Total restaurants in valid zip codes: 19,172\n"
   ]
  },
  {
   "cell_type": "code",
   "execution_count": 124,
   "metadata": {
    "slideshow": null
   },
   "outputs": [
    {
     "name": "stdout",
     "output_type": "stream",
     "text": [
      "==================\n",
      "Your score:  0.9195402298850566\n",
      "==================\n"
     ]
    }
   ],
   "source": [
    "score_by_zipcode = [(\"11201\", 9.81739130434783, 345)] * 87\n",
    "\n",
    "grader.score('sql__score_by_zipcode', score_zipcode[:87])"
   ]
  },
  {
   "cell_type": "markdown",
   "metadata": {
    "slideshow": null
   },
   "source": [
    "## Question 2: Mapping scores\n"
   ]
  },
  {
   "cell_type": "markdown",
   "metadata": {
    "slideshow": null
   },
   "source": [
    "The above are not terribly enlightening.  Use [CartoDB](http://cartodb.com/) to produce a map of average scores by zip code.  You can sign up for a free trial.\n",
    "\n",
    "You will have to use their wizard to plot the data by [zip code](https://carto.com/learn/guides/analysis/georeference). You will need to specify \"USA\" in the country field.  Then use the \"share\" button to return a link of the form [https://x.cartodb.com/](https://x.cartodb.com/).\n",
    "\n",
    "**For fun:** How do JFK, Brighton Beach, Liberty Island (home of the Statue of Liberty), Financial District, Chinatown, and Coney Island fare?\n",
    "\n",
    "**For more fun:** Plot restaurants as pins on the map, allowing the user to filter by \"low\", \"middling\", or \"high\"-scoring restaurants. You can use a CASE WHEN statement to create the different groups based on score thresholds."
   ]
  },
  {
   "cell_type": "code",
   "execution_count": null,
   "metadata": {
    "slideshow": null
   },
   "outputs": [],
   "source": [
    "# must be url of the form https://x.cartodb.com/..\n",
    "score_by_map = \"https://cdhal0013.carto.com/builder/c1a67e0a-173c11e7-8e35-0f3ebc282e83\"\n",
    "\n"
   ]
  },
  {
   "cell_type": "markdown",
   "metadata": {
    "slideshow": null
   },
   "source": [
    "## Question 3: Score by borough"
   ]
  },
  {
   "cell_type": "markdown",
   "metadata": {
    "slideshow": null
   },
   "source": [
    "Return a list of tuples of the form:\n",
    "\n",
    "    (borough, mean score, number of restaurants)\n",
    "\n",
    "for each of the city's five boroughs. Use the latest score for each restaurant. Sort the list in ascending order by grade.\n",
    "\n",
    "**Hint:** You will have to perform a join with the `boroughs` table. The borough names should be reported in ALL CAPS.\n",
    "\n",
    "**Checkpoint:**\n",
    "- Total restaurants in valid boroughs: 24,350"
   ]
  },
  {
   "cell_type": "code",
   "execution_count": 68,
   "metadata": {},
   "outputs": [
    {
     "data": {
      "text/plain": [
       "[('MANHATTAN', 11.86307054, 9891),\n",
       " ('THE BRONX', 11.25834798, 2298),\n",
       " ('BROOKLYN', 11.92581806, 5849),\n",
       " ('QUEENS', 12.25706893, 5625),\n",
       " ('STATEN ISLAND', 12.44725275, 920)]"
      ]
     },
     "execution_count": 68,
     "metadata": {},
     "output_type": "execute_result"
    }
   ],
   "source": [
    "score_borough"
   ]
  },
  {
   "cell_type": "code",
   "execution_count": 67,
   "metadata": {
    "slideshow": null
   },
   "outputs": [
    {
     "name": "stdout",
     "output_type": "stream",
     "text": [
      "==================\n",
      "Your score:  1.0\n",
      "==================\n"
     ]
    }
   ],
   "source": [
    "score_by_borough = [(\"MANHATTAN\", 10.7269875502402, 10201)] * 5\n",
    "\n",
    "grader.score('sql__score_by_borough', score_borough)"
   ]
  },
  {
   "cell_type": "markdown",
   "metadata": {
    "slideshow": null
   },
   "source": [
    "## Question 5: Violations by cuisine\n"
   ]
  },
  {
   "cell_type": "markdown",
   "metadata": {
    "slideshow": null
   },
   "source": [
    "We want to look at violations themselves now.  We'll need to think more carefully about what we're measuring, since most restaurants have many inspections with possibly multiple violations per inspection, or long stretches of inspections with no violations.\n",
    "\n",
    "There are many ways to deal with this normalization issue, but we'll go with a fairly straightforward one: dividing the number of violations by the length of time (in years) the restaurant has been open.  As a proxy for the length, we'll look at the difference between the oldest and newest inspection date, treating anything less than 30 days as 30 days (to account for those that were only inspected once, we'll assume everything was open for at least a month).\n",
    "\n",
    "Since there are so many restaurants, we'll group them by cuisine and do a weighted average by computing \n",
    "\n",
    "    (total violations for a cuisine) / (total restaurant-years for that cuisine)\n",
    "\n",
    "Return a list of 75 tuples of the form\n",
    "\n",
    "    (cuisine name, reports per restaurant-year)\n",
    "    \n",
    "for cuisines with at least 100 violations total, ordered by increasing number of reports per restaurant-year\n",
    "    \n",
    "**Note:** This isn't the only way to normalize things.  How would other ways affect the computation?  If you similarly wanted to compute an average score by cuisine, how might you go about doing that?\n",
    "    \n",
    "**Checkpoint:**\n",
    "- Total entries from valid cuisines: 522,410"
   ]
  },
  {
   "cell_type": "code",
   "execution_count": 108,
   "metadata": {},
   "outputs": [],
   "source": [
    "def merge(list1, list2): \n",
    "      ##Magic\n",
    "    merged_list = [(str(list1[i]), list2[i]) for i in range(0, len(list1))] \n",
    "    return merged_list"
   ]
  },
  {
   "cell_type": "code",
   "execution_count": 111,
   "metadata": {
    "slideshow": null
   },
   "outputs": [
    {
     "name": "stdout",
     "output_type": "stream",
     "text": [
      "==================\n",
      "Your score:  0.9199999999999988\n",
      "==================\n"
     ]
    }
   ],
   "source": [
    "#score_by_cuisine = [(\"French\", 20.3550686378036)] * 75\n",
    "\n",
    "grader.score('sql__score_by_cuisine',score_cuisine)"
   ]
  },
  {
   "cell_type": "markdown",
   "metadata": {
    "slideshow": null
   },
   "source": [
    "## Question 6: Specific violations by cuisine"
   ]
  },
  {
   "cell_type": "markdown",
   "metadata": {
    "slideshow": null
   },
   "source": [
    "Which cuisines tend to have a disproportionate number of what which violations? Answering this question isn't easy because you have to think carefully about normalizations.\n",
    "\n",
    "1. More popular cuisine categories will tend to have more violations just because they represent more restaurants.\n",
    "2. Similarly, some violations are more common.  For example, knowing that \"Equipment not easily movable or sealed to floor\" is a common violation for Chinese restaurants is not particularly helpful when it is a common violation for all restaurants.\n",
    "\n",
    "The right quantity is to look at is the conditional probability of a specific type of violation given a specific cuisine type and divide it by the unconditional probability of the violation for the entire population. Taking this ratio gives the right answer.  Return the 20 highest ratios of the form:\n",
    "\n",
    "    ((cuisine, violation), ratio, count)\n",
    "\n",
    "**Hint:**\n",
    "1. You might want to check out this [Stack Overflow post](http://stackoverflow.com/questions/972877/calculate-frequency-using-sql).\n",
    "2. The definition of a violation changes with time.  For example, 10A can mean two different things \"Toilet facility not maintained ...\" or \"Vermin or other live animal present ...\" when things were prior to 2003. To deal with this, you should limit your analysis to violation codes with end date after Jan 1, 2014. (This end date refers to the validity time ranges in `Violation.txt`).\n",
    "3. The ratios don't mean much when the number of violations of a given type and for a specific category are not large (why not?).  Be sure to filter these out.  We chose 100 as our cutoff.\n",
    "\n",
    "**Checkpoint:**\n",
    "- Top 20 ratios mean: 2.360652529900757"
   ]
  },
  {
   "cell_type": "code",
   "execution_count": 249,
   "metadata": {},
   "outputs": [
    {
     "data": {
      "text/plain": [
       "[(('Japanese',\n",
       "   'Food worker does not use proper utensil to eliminate bare hand contact with food that will not receive adequate additional heat treatment.'),\n",
       "  3.244173663,\n",
       "  541),\n",
       " (('Caf/Coffee/Tea',\n",
       "   'Choking first aid poster not posted. Alcohol and pregnancy warning sign not posted. Resuscitation equipment: exhaled air resuscitation masks (adult & pediatric), latex gloves, sign not posted. Inspection report sign not posted.'),\n",
       "  3.1528542319999997,\n",
       "  175),\n",
       " (('Juice, Smoothies, Fruit Salads',\n",
       "   'Food Protection Certificate not held by supervisor of food operations.'),\n",
       "  3.089576287,\n",
       "  145),\n",
       " (('Donuts',\n",
       "   'Accurate thermometer not provided in refrigerated or hot holding equipment.'),\n",
       "  3.0373024980000003,\n",
       "  130),\n",
       " (('Ice Cream, Gelato, Yogurt, Ices',\n",
       "   'Food Protection Certificate not held by supervisor of food operations.'),\n",
       "  2.9559491369999997,\n",
       "  193),\n",
       " (('Thai', 'Thawing procedures improper.'), 2.63299433, 151),\n",
       " (('Irish',\n",
       "   'Raw, cooked or prepared food is adulterated, contaminated, cross-contaminated, or not discarded in accordance with HACCP plan.'),\n",
       "  2.3693049680000002,\n",
       "  321),\n",
       " (('Mexican',\n",
       "   'Food not cooled by an approved method whereby the internal product temperature is reduced from 140 F to 70 F or less within 2 hours, and from 70 F to 41 F or less within 4 additional hours.'),\n",
       "  2.326079083,\n",
       "  260),\n",
       " (('Indian',\n",
       "   'Food not cooled by an approved method whereby the internal product temperature is reduced from 140 F to 70 F or less within 2 hours, and from 70 F to 41 F or less within 4 additional hours.'),\n",
       "  2.258983933,\n",
       "  112),\n",
       " (('Chinese', 'Thawing procedures improper.'), 2.197103346, 1121),\n",
       " (('Caribbean',\n",
       "   'Food not cooled by an approved method whereby the internal product temperature is reduced from 140 F to 70 F or less within 2 hours, and from 70 F to 41 F or less within 4 additional hours.'),\n",
       "  2.108426763,\n",
       "  206),\n",
       " (('Hamburgers',\n",
       "   'Accurate thermometer not provided in refrigerated or hot holding equipment.'),\n",
       "  2.094689591,\n",
       "  109),\n",
       " (('Soups & Sandwiches',\n",
       "   'Cold food item held above 41 F (smoked fish and reduced oxygen packaged foods above 38 F) except during necessary preparation.'),\n",
       "  2.091423742,\n",
       "  106),\n",
       " (('Chinese',\n",
       "   'Food worker does not wash hands thoroughly after using the toilet, coughing, sneezing, smoking, eating, preparing raw foods or otherwise contaminating hands.'),\n",
       "  2.08657168,\n",
       "  121),\n",
       " (('American ',\n",
       "   '\"\"No Smoking and/or \\'Smoking Permitted sign not conspicuously posted. Health warning not present on \\'Smoking Permitted'),\n",
       "  2.0798573719999998,\n",
       "  227),\n",
       " (('Donuts',\n",
       "   'Bulb not shielded or shatterproof, in areas where there is extreme heat, temperature changes, or where accidental contact may occur.'),\n",
       "  2.064896404,\n",
       "  110),\n",
       " (('Middle Eastern',\n",
       "   'Food Protection Certificate not held by supervisor of food operations.'),\n",
       "  1.985044002,\n",
       "  117),\n",
       " (('Spanish',\n",
       "   'Food not cooled by an approved method whereby the internal product temperature is reduced from 140 F to 70 F or less within 2 hours, and from 70 F to 41 F or less within 4 additional hours.'),\n",
       "  1.9008790169999998,\n",
       "  151),\n",
       " (('Hamburgers',\n",
       "   'Filth flies or food/refuse/sewage-associated (FRSA) flies present in facilitys food and/or non-food areas. Filth flies include house flies, little house flies, blow flies, bottle flies and flesh flies. Food/refuse/sewage-associated flies include fruit flies, drain flies and Phorid flies.'),\n",
       "  1.895643454,\n",
       "  600),\n",
       " (('Caf/Coffee/Tea',\n",
       "   'Toilet facility not maintained and provided with toilet paper, waste receptacle and self-closing door.'),\n",
       "  1.8836420930000002,\n",
       "  315)]"
      ]
     },
     "execution_count": 249,
     "metadata": {},
     "output_type": "execute_result"
    }
   ],
   "source": [
    "violation_by_cuisine[:20]"
   ]
  },
  {
   "cell_type": "code",
   "execution_count": 250,
   "metadata": {
    "slideshow": null
   },
   "outputs": [
    {
     "name": "stdout",
     "output_type": "stream",
     "text": [
      "==================\n",
      "Your score:  0.9250000000000003\n",
      "==================\n"
     ]
    }
   ],
   "source": [
    "#violation_by_cuisine = [\n",
    "#    ((\"Café/Coffee/Tea\",\n",
    "#      \"Toilet facility not maintained and provided with toilet paper; \"\n",
    "#      \"waste receptacle and self-closing door.\"),\n",
    "#     1.87684775827172, 315)] * 20\n",
    "\n",
    "grader.score('sql__violation_by_cuisine', violation_by_cuisine[:20])"
   ]
  },
  {
   "cell_type": "markdown",
   "metadata": {
    "slideshow": null
   },
   "source": [
    "*Copyright &copy; 2020 Pragmatic Institute. This content is licensed solely for personal use. Redistribution or publication of this material is strictly prohibited.*"
   ]
  }
 ],
 "metadata": {
  "kernelspec": {
   "display_name": "Python 3",
   "language": "python",
   "name": "python3"
  },
  "language_info": {
   "codemirror_mode": {
    "name": "ipython",
    "version": 3
   },
   "file_extension": ".py",
   "mimetype": "text/x-python",
   "name": "python",
   "nbconvert_exporter": "python",
   "pygments_lexer": "ipython3",
   "version": "3.7.4"
  },
  "nbclean": true
 },
 "nbformat": 4,
 "nbformat_minor": 4
}
